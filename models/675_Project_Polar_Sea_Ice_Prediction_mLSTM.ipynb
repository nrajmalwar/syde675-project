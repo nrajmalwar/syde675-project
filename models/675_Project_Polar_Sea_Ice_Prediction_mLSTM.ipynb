{
  "nbformat": 4,
  "nbformat_minor": 0,
  "metadata": {
    "colab": {
      "name": "675_Project_Polar_Sea_Ice_Prediction_mLSTM.ipynb",
      "provenance": [],
      "collapsed_sections": [],
      "toc_visible": true
    },
    "kernelspec": {
      "name": "python3",
      "display_name": "Python 3"
    },
    "accelerator": "GPU"
  },
  "cells": [
    {
      "cell_type": "code",
      "source": [
        "# from google.colab import drive\n",
        "# drive.mount('/content/drive')"
      ],
      "metadata": {
        "id": "ydtBBRKh_88X"
      },
      "execution_count": 1,
      "outputs": []
    },
    {
      "cell_type": "markdown",
      "metadata": {
        "id": "rSkGCT8lwmj6"
      },
      "source": [
        "## Polar Sea Ice Prediction"
      ]
    },
    {
      "cell_type": "code",
      "metadata": {
        "id": "g3fTrL1TI6u0"
      },
      "source": [
        ""
      ],
      "execution_count": 1,
      "outputs": []
    },
    {
      "cell_type": "code",
      "metadata": {
        "id": "Xj6J2OiifPrz"
      },
      "source": [
        "# pip install attention"
      ],
      "execution_count": 2,
      "outputs": []
    },
    {
      "cell_type": "markdown",
      "metadata": {
        "id": "jdRdTOsz9raL"
      },
      "source": [
        "## Initial Setup"
      ]
    },
    {
      "cell_type": "code",
      "metadata": {
        "id": "U0pzwDXw9p0l"
      },
      "source": [
        "import os\n",
        "import math\n",
        "import glob\n",
        "import numpy as np\n",
        "import pandas as pd\n",
        "import tensorflow as tf\n",
        "import matplotlib.pyplot as plt\n",
        "from keras.models import Sequential\n",
        "# import tensorflow.keras\n",
        "from tensorflow.keras.optimizers import Adam\n",
        "from attention import Attention\n",
        "from keras.layers import Dense, Dropout\n",
        "from keras.layers import LSTM,TimeDistributed\n",
        "from sklearn.preprocessing import MinMaxScaler, StandardScaler\n",
        "from sklearn.metrics import mean_squared_error\n",
        "from sklearn.model_selection import train_test_split\n",
        "from keras.callbacks import EarlyStopping, ModelCheckpoint\n",
        "from numpy.random import seed\n",
        "\n",
        "import os\n",
        "import csv\n",
        "\n",
        "seed_number = 2\n",
        "seed(seed_number)"
      ],
      "execution_count": 3,
      "outputs": []
    },
    {
      "cell_type": "markdown",
      "metadata": {
        "id": "L8VX5KkQ_FX6"
      },
      "source": [
        "## Loading Combined Data 1979- 2018\n",
        "\n",
        "Features:\n",
        "'wind_10m', 'specific_humidity', 'LW_down', 'SW_down', 'rainfall', 'snowfall', 'sosaline', 'sst', 't2m', 'surface_pressure','sea_ice_extent'\n",
        "\n",
        "\n"
      ]
    },
    {
      "cell_type": "code",
      "source": [
        "path = '/content/drive/MyDrive/SYDE 675/Project/Data'\n",
        "data_path = path + '/monthly_features.npy'\n",
        "target_path = path + '/monthly_target.npy'"
      ],
      "metadata": {
        "id": "QhsYTaGY_6E0"
      },
      "execution_count": 4,
      "outputs": []
    },
    {
      "cell_type": "code",
      "metadata": {
        "id": "lMlcMP96tmrt"
      },
      "source": [
        "# data = np.load('/.../monthly_features.npy',allow_pickle=True)\n",
        "# target = np.load('/.../monthly_target.npy',allow_pickle=True)\n",
        "\n",
        "data = np.load(data_path, allow_pickle=True)\n",
        "target = np.load(target_path, allow_pickle=True)"
      ],
      "execution_count": 5,
      "outputs": []
    },
    {
      "cell_type": "markdown",
      "metadata": {
        "id": "pKwmIvYU_nxx"
      },
      "source": [
        "### Adding a Lag to Y values\n",
        "Here lag = 1 month\n"
      ]
    },
    {
      "cell_type": "code",
      "metadata": {
        "id": "uES68xGKwgSy",
        "colab": {
          "base_uri": "https://localhost:8080/"
        },
        "outputId": "c34bfa8b-7e9f-42f2-e5f2-fd7d237cd29c"
      },
      "source": [
        "#Adding a lag to monthly targets\n",
        "lag = 1\n",
        "data = data[:-lag,:,:]\n",
        "target = target[lag:]\n",
        "\n",
        "print(data.shape)\n",
        "print(target.shape)\n"
      ],
      "execution_count": 6,
      "outputs": [
        {
          "output_type": "stream",
          "name": "stdout",
          "text": [
            "(479, 1, 11)\n",
            "(479,)\n"
          ]
        }
      ]
    },
    {
      "cell_type": "markdown",
      "metadata": {
        "id": "lWyDrrpAQ74Q"
      },
      "source": [
        "## Train Validation Split"
      ]
    },
    {
      "cell_type": "markdown",
      "metadata": {
        "id": "rnbZ9jp0zv4e"
      },
      "source": [
        "LSTM network expects the input data to be provided with a specific array structure in the form of: [samples, time steps, features]. We load the csv file and only retain the feature and target columns. The features and target are stored in separate np arrays."
      ]
    },
    {
      "cell_type": "code",
      "metadata": {
        "id": "BUVLJ8d7yWlc",
        "colab": {
          "base_uri": "https://localhost:8080/"
        },
        "outputId": "c76b057f-dbff-414b-d64f-9a9b6cfbc6e1"
      },
      "source": [
        "# Sequential split train:val data in 80:20 sequentially \n",
        "\n",
        "LEN_DATA = len(data) #total number of pixels\n",
        "\n",
        "NUM_TRAIN = LEN_DATA - (60) #reserve last 30 months for testing\n",
        "NUM_TEST = LEN_DATA - NUM_TRAIN\n",
        "\n",
        "print('LEN_DATA:',LEN_DATA)\n",
        "print('NUM_TRAIN:',NUM_TRAIN)\n",
        "print('NUM_TEST:',NUM_TEST)\n",
        "\n",
        "x_train = data[0:NUM_TRAIN]\n",
        "x_test = data[NUM_TRAIN:]\n",
        "\n",
        "#split features and labels\n",
        "y_train = target[:NUM_TRAIN] #target is last column i-e sea-ice\n",
        "y_test = target[NUM_TRAIN:] #target is last column i-e sea-ice\n"
      ],
      "execution_count": 7,
      "outputs": [
        {
          "output_type": "stream",
          "name": "stdout",
          "text": [
            "LEN_DATA: 479\n",
            "NUM_TRAIN: 419\n",
            "NUM_TEST: 60\n"
          ]
        }
      ]
    },
    {
      "cell_type": "code",
      "metadata": {
        "colab": {
          "base_uri": "https://localhost:8080/"
        },
        "id": "fPxr5VW3ynVk",
        "outputId": "2af21bae-c02b-4385-97b6-e86529a0fcca"
      },
      "source": [
        "print('x_train.shape:',x_train.shape)\n",
        "print('y_train.shape:',y_train.shape)\n",
        "print('x_test.shape:',x_test.shape)\n",
        "print('y_test.shape:',y_test.shape)"
      ],
      "execution_count": 8,
      "outputs": [
        {
          "output_type": "stream",
          "name": "stdout",
          "text": [
            "x_train.shape: (419, 1, 11)\n",
            "y_train.shape: (419,)\n",
            "x_test.shape: (60, 1, 11)\n",
            "y_test.shape: (60,)\n"
          ]
        }
      ]
    },
    {
      "cell_type": "markdown",
      "metadata": {
        "id": "8V9PlIs8OUUM"
      },
      "source": [
        "## Reshaping Input and Target Features"
      ]
    },
    {
      "cell_type": "code",
      "metadata": {
        "id": "v8qmWF4VHxrR"
      },
      "source": [
        "# convert an array of values into a dataset matrix\n",
        "def reshape_features(dataset, timesteps=1):\n",
        "    print(dataset.shape)\n",
        "    X = dataset.reshape((int(dataset.shape[0]/timesteps)), timesteps, dataset.shape[1])\n",
        "    return X"
      ],
      "execution_count": 9,
      "outputs": []
    },
    {
      "cell_type": "markdown",
      "metadata": {
        "id": "-TOp3WLtJ6xJ"
      },
      "source": [
        "## Normalization\n"
      ]
    },
    {
      "cell_type": "code",
      "metadata": {
        "id": "X9nc-dTGJ8qr"
      },
      "source": [
        "# normalize the features\n",
        "\n",
        "scaler_f = StandardScaler()\n",
        "x_train = scaler_f.fit_transform(x_train.reshape(-1,11)) #reshaping to 2d for standard scaling\n",
        "x_test = scaler_f.transform(x_test.reshape(-1,11)) #reshaping to 2d for standard scaling\n",
        "\n",
        "scaler_l = StandardScaler()\n",
        "y_train = scaler_l.fit_transform(y_train.reshape(-1,1)) #reshaping to 2d for standard scaling\n",
        "y_test = scaler_l.transform(y_test.reshape(-1,1)) #reshaping to 2d for standard scaling\n"
      ],
      "execution_count": 10,
      "outputs": []
    },
    {
      "cell_type": "code",
      "metadata": {
        "id": "iwL_XadANsWH",
        "colab": {
          "base_uri": "https://localhost:8080/"
        },
        "outputId": "7f69dede-7145-452c-f1c0-587b53c67396"
      },
      "source": [
        "#Reshaping data to 3D for modeling\n",
        "timesteps = 1\n",
        "x_train = reshape_features(x_train, timesteps) # reshaping to 3d for model\n",
        "x_test = reshape_features(x_test, timesteps) # reshaping to 3d for model\n"
      ],
      "execution_count": 11,
      "outputs": [
        {
          "output_type": "stream",
          "name": "stdout",
          "text": [
            "(419, 11)\n",
            "(60, 11)\n"
          ]
        }
      ]
    },
    {
      "cell_type": "code",
      "metadata": {
        "colab": {
          "base_uri": "https://localhost:8080/"
        },
        "id": "lDxL_gE5Onx9",
        "outputId": "4f2c2fea-5b85-4d75-b4f9-a3fda838237a"
      },
      "source": [
        "print('x_train.shape:',x_train.shape)\n",
        "print('y_train.shape:',y_train.shape)\n",
        "print('x_test.shape:',x_test.shape)\n",
        "print('y_test.shape:',y_test.shape)"
      ],
      "execution_count": 12,
      "outputs": [
        {
          "output_type": "stream",
          "name": "stdout",
          "text": [
            "x_train.shape: (419, 1, 11)\n",
            "y_train.shape: (419, 1)\n",
            "x_test.shape: (60, 1, 11)\n",
            "y_test.shape: (60, 1)\n"
          ]
        }
      ]
    },
    {
      "cell_type": "markdown",
      "metadata": {
        "id": "HRaNlUDXr7Qt"
      },
      "source": [
        "## LSTM Network"
      ]
    },
    {
      "cell_type": "code",
      "metadata": {
        "colab": {
          "base_uri": "https://localhost:8080/"
        },
        "id": "psOiJCscr8wu",
        "outputId": "f028c01d-1660-4895-a47f-d4ef6e02814a"
      },
      "source": [
        "import numpy as np\n",
        "from tensorflow.keras import Input\n",
        "from tensorflow.keras.layers import Dense, LSTM\n",
        "from tensorflow.keras.models import load_model, Model\n",
        "\n",
        "timestep = timesteps\n",
        "features = 11\n",
        "\n",
        "model_input = Input(shape=(timestep,features))\n",
        "x = LSTM(64, return_sequences=True)(model_input)\n",
        "x = Dropout(0.2)(x)\n",
        "x = LSTM(32, return_sequences=True)(x)\n",
        "x = LSTM(16, return_sequences=True)(x)\n",
        "x = LSTM(16, return_sequences=True)(x)\n",
        "x = Attention(trainable = True)(x)\n",
        "x = Dropout(0.2)(x)\n",
        "x = Dense(32)(x)\n",
        "x = Dense(16)(x)\n",
        "x = Dense(1)(x)\n",
        "model = Model(model_input, x)\n",
        "#model.compile(loss='mae', optimizer='adam')\n",
        "print(model.summary())"
      ],
      "execution_count": 13,
      "outputs": [
        {
          "output_type": "stream",
          "name": "stdout",
          "text": [
            "Model: \"model\"\n",
            "_________________________________________________________________\n",
            " Layer (type)                Output Shape              Param #   \n",
            "=================================================================\n",
            " input_1 (InputLayer)        [(None, 1, 11)]           0         \n",
            "                                                                 \n",
            " lstm (LSTM)                 (None, 1, 64)             19456     \n",
            "                                                                 \n",
            " dropout (Dropout)           (None, 1, 64)             0         \n",
            "                                                                 \n",
            " lstm_1 (LSTM)               (None, 1, 32)             12416     \n",
            "                                                                 \n",
            " lstm_2 (LSTM)               (None, 1, 16)             3136      \n",
            "                                                                 \n",
            " lstm_3 (LSTM)               (None, 1, 16)             2112      \n",
            "                                                                 \n",
            " attention (Attention)       (None, 128)               4352      \n",
            "                                                                 \n",
            " dropout_1 (Dropout)         (None, 128)               0         \n",
            "                                                                 \n",
            " dense (Dense)               (None, 32)                4128      \n",
            "                                                                 \n",
            " dense_1 (Dense)             (None, 16)                528       \n",
            "                                                                 \n",
            " dense_2 (Dense)             (None, 1)                 17        \n",
            "                                                                 \n",
            "=================================================================\n",
            "Total params: 46,145\n",
            "Trainable params: 46,145\n",
            "Non-trainable params: 0\n",
            "_________________________________________________________________\n",
            "None\n"
          ]
        }
      ]
    },
    {
      "cell_type": "code",
      "metadata": {
        "colab": {
          "base_uri": "https://localhost:8080/"
        },
        "id": "PvRxn-_n-Lji",
        "outputId": "2c514be3-e5c4-439a-f6fd-63f1816e7fa8"
      },
      "source": [
        "extent = target\n",
        "print(extent.shape)"
      ],
      "execution_count": 14,
      "outputs": [
        {
          "output_type": "stream",
          "name": "stdout",
          "text": [
            "(479,)\n"
          ]
        }
      ]
    },
    {
      "cell_type": "markdown",
      "metadata": {
        "id": "qrWXbk9DsTJ1"
      },
      "source": [
        "## Compiling the Network and Fitting Model"
      ]
    },
    {
      "cell_type": "code",
      "metadata": {
        "id": "JAo2H2JssXjN"
      },
      "source": [
        "#Compiling the network\n",
        "model.compile(loss='mean_squared_error', optimizer='adam')\n",
        "checkpoint_path='./testmodel.h5'\n",
        "keras_callbacks   = [\n",
        "      EarlyStopping(monitor='val_loss', patience=60, mode='min', min_delta=0.001),\n",
        "      ModelCheckpoint(checkpoint_path, monitor='val_loss', save_best_only=True, mode='min')\n",
        "]\n"
      ],
      "execution_count": 15,
      "outputs": []
    },
    {
      "cell_type": "code",
      "metadata": {
        "id": "vxresQUSTYgq"
      },
      "source": [
        "# history=model.fit(x_train, y_train, epochs=500, batch_size=12, verbose=2, validation_split =0.2, shuffle=True,callbacks=keras_callbacks)"
      ],
      "execution_count": 16,
      "outputs": []
    },
    {
      "cell_type": "markdown",
      "source": [
        "# Train on entire dataset (no cross-validation)"
      ],
      "metadata": {
        "id": "3kF3KNyiH2iJ"
      }
    },
    {
      "cell_type": "code",
      "source": [
        "history=model.fit(x_train, y_train, epochs=100, batch_size=12, verbose=2, shuffle=True)"
      ],
      "metadata": {
        "colab": {
          "base_uri": "https://localhost:8080/"
        },
        "id": "kRVR8UmrH7zK",
        "outputId": "9de83c7d-319b-4dd8-9287-7f53b8b6c7c9"
      },
      "execution_count": 17,
      "outputs": [
        {
          "output_type": "stream",
          "name": "stdout",
          "text": [
            "Epoch 1/100\n",
            "35/35 - 16s - loss: 0.7775 - 16s/epoch - 455ms/step\n",
            "Epoch 2/100\n",
            "35/35 - 0s - loss: 0.0836 - 341ms/epoch - 10ms/step\n",
            "Epoch 3/100\n",
            "35/35 - 0s - loss: 0.0447 - 335ms/epoch - 10ms/step\n",
            "Epoch 4/100\n",
            "35/35 - 0s - loss: 0.0399 - 335ms/epoch - 10ms/step\n",
            "Epoch 5/100\n",
            "35/35 - 0s - loss: 0.0348 - 324ms/epoch - 9ms/step\n",
            "Epoch 6/100\n",
            "35/35 - 0s - loss: 0.0331 - 329ms/epoch - 9ms/step\n",
            "Epoch 7/100\n",
            "35/35 - 0s - loss: 0.0310 - 330ms/epoch - 9ms/step\n",
            "Epoch 8/100\n",
            "35/35 - 0s - loss: 0.0291 - 338ms/epoch - 10ms/step\n",
            "Epoch 9/100\n",
            "35/35 - 0s - loss: 0.0289 - 327ms/epoch - 9ms/step\n",
            "Epoch 10/100\n",
            "35/35 - 0s - loss: 0.0282 - 327ms/epoch - 9ms/step\n",
            "Epoch 11/100\n",
            "35/35 - 0s - loss: 0.0217 - 326ms/epoch - 9ms/step\n",
            "Epoch 12/100\n",
            "35/35 - 0s - loss: 0.0256 - 330ms/epoch - 9ms/step\n",
            "Epoch 13/100\n",
            "35/35 - 0s - loss: 0.0208 - 361ms/epoch - 10ms/step\n",
            "Epoch 14/100\n",
            "35/35 - 0s - loss: 0.0261 - 328ms/epoch - 9ms/step\n",
            "Epoch 15/100\n",
            "35/35 - 0s - loss: 0.0229 - 337ms/epoch - 10ms/step\n",
            "Epoch 16/100\n",
            "35/35 - 0s - loss: 0.0240 - 328ms/epoch - 9ms/step\n",
            "Epoch 17/100\n",
            "35/35 - 0s - loss: 0.0214 - 322ms/epoch - 9ms/step\n",
            "Epoch 18/100\n",
            "35/35 - 0s - loss: 0.0206 - 316ms/epoch - 9ms/step\n",
            "Epoch 19/100\n",
            "35/35 - 0s - loss: 0.0232 - 323ms/epoch - 9ms/step\n",
            "Epoch 20/100\n",
            "35/35 - 0s - loss: 0.0232 - 314ms/epoch - 9ms/step\n",
            "Epoch 21/100\n",
            "35/35 - 0s - loss: 0.0236 - 321ms/epoch - 9ms/step\n",
            "Epoch 22/100\n",
            "35/35 - 0s - loss: 0.0274 - 334ms/epoch - 10ms/step\n",
            "Epoch 23/100\n",
            "35/35 - 0s - loss: 0.0239 - 333ms/epoch - 10ms/step\n",
            "Epoch 24/100\n",
            "35/35 - 0s - loss: 0.0260 - 345ms/epoch - 10ms/step\n",
            "Epoch 25/100\n",
            "35/35 - 0s - loss: 0.0211 - 323ms/epoch - 9ms/step\n",
            "Epoch 26/100\n",
            "35/35 - 0s - loss: 0.0259 - 324ms/epoch - 9ms/step\n",
            "Epoch 27/100\n",
            "35/35 - 0s - loss: 0.0186 - 323ms/epoch - 9ms/step\n",
            "Epoch 28/100\n",
            "35/35 - 0s - loss: 0.0239 - 377ms/epoch - 11ms/step\n",
            "Epoch 29/100\n",
            "35/35 - 0s - loss: 0.0213 - 336ms/epoch - 10ms/step\n",
            "Epoch 30/100\n",
            "35/35 - 0s - loss: 0.0206 - 317ms/epoch - 9ms/step\n",
            "Epoch 31/100\n",
            "35/35 - 0s - loss: 0.0204 - 347ms/epoch - 10ms/step\n",
            "Epoch 32/100\n",
            "35/35 - 0s - loss: 0.0253 - 331ms/epoch - 9ms/step\n",
            "Epoch 33/100\n",
            "35/35 - 0s - loss: 0.0212 - 325ms/epoch - 9ms/step\n",
            "Epoch 34/100\n",
            "35/35 - 0s - loss: 0.0208 - 345ms/epoch - 10ms/step\n",
            "Epoch 35/100\n",
            "35/35 - 0s - loss: 0.0225 - 314ms/epoch - 9ms/step\n",
            "Epoch 36/100\n",
            "35/35 - 0s - loss: 0.0178 - 320ms/epoch - 9ms/step\n",
            "Epoch 37/100\n",
            "35/35 - 0s - loss: 0.0174 - 336ms/epoch - 10ms/step\n",
            "Epoch 38/100\n",
            "35/35 - 0s - loss: 0.0182 - 329ms/epoch - 9ms/step\n",
            "Epoch 39/100\n",
            "35/35 - 0s - loss: 0.0200 - 322ms/epoch - 9ms/step\n",
            "Epoch 40/100\n",
            "35/35 - 0s - loss: 0.0206 - 337ms/epoch - 10ms/step\n",
            "Epoch 41/100\n",
            "35/35 - 0s - loss: 0.0200 - 326ms/epoch - 9ms/step\n",
            "Epoch 42/100\n",
            "35/35 - 0s - loss: 0.0210 - 328ms/epoch - 9ms/step\n",
            "Epoch 43/100\n",
            "35/35 - 0s - loss: 0.0205 - 357ms/epoch - 10ms/step\n",
            "Epoch 44/100\n",
            "35/35 - 0s - loss: 0.0204 - 357ms/epoch - 10ms/step\n",
            "Epoch 45/100\n",
            "35/35 - 0s - loss: 0.0185 - 325ms/epoch - 9ms/step\n",
            "Epoch 46/100\n",
            "35/35 - 0s - loss: 0.0195 - 361ms/epoch - 10ms/step\n",
            "Epoch 47/100\n",
            "35/35 - 0s - loss: 0.0208 - 319ms/epoch - 9ms/step\n",
            "Epoch 48/100\n",
            "35/35 - 0s - loss: 0.0199 - 322ms/epoch - 9ms/step\n",
            "Epoch 49/100\n",
            "35/35 - 0s - loss: 0.0193 - 335ms/epoch - 10ms/step\n",
            "Epoch 50/100\n",
            "35/35 - 0s - loss: 0.0209 - 311ms/epoch - 9ms/step\n",
            "Epoch 51/100\n",
            "35/35 - 0s - loss: 0.0167 - 317ms/epoch - 9ms/step\n",
            "Epoch 52/100\n",
            "35/35 - 0s - loss: 0.0187 - 329ms/epoch - 9ms/step\n",
            "Epoch 53/100\n",
            "35/35 - 0s - loss: 0.0233 - 315ms/epoch - 9ms/step\n",
            "Epoch 54/100\n",
            "35/35 - 0s - loss: 0.0238 - 319ms/epoch - 9ms/step\n",
            "Epoch 55/100\n",
            "35/35 - 0s - loss: 0.0173 - 332ms/epoch - 9ms/step\n",
            "Epoch 56/100\n",
            "35/35 - 0s - loss: 0.0204 - 328ms/epoch - 9ms/step\n",
            "Epoch 57/100\n",
            "35/35 - 0s - loss: 0.0174 - 325ms/epoch - 9ms/step\n",
            "Epoch 58/100\n",
            "35/35 - 0s - loss: 0.0240 - 330ms/epoch - 9ms/step\n",
            "Epoch 59/100\n",
            "35/35 - 0s - loss: 0.0196 - 338ms/epoch - 10ms/step\n",
            "Epoch 60/100\n",
            "35/35 - 0s - loss: 0.0186 - 332ms/epoch - 9ms/step\n",
            "Epoch 61/100\n",
            "35/35 - 0s - loss: 0.0219 - 322ms/epoch - 9ms/step\n",
            "Epoch 62/100\n",
            "35/35 - 0s - loss: 0.0169 - 345ms/epoch - 10ms/step\n",
            "Epoch 63/100\n",
            "35/35 - 0s - loss: 0.0226 - 328ms/epoch - 9ms/step\n",
            "Epoch 64/100\n",
            "35/35 - 0s - loss: 0.0230 - 329ms/epoch - 9ms/step\n",
            "Epoch 65/100\n",
            "35/35 - 0s - loss: 0.0198 - 333ms/epoch - 10ms/step\n",
            "Epoch 66/100\n",
            "35/35 - 0s - loss: 0.0175 - 336ms/epoch - 10ms/step\n",
            "Epoch 67/100\n",
            "35/35 - 0s - loss: 0.0224 - 323ms/epoch - 9ms/step\n",
            "Epoch 68/100\n",
            "35/35 - 0s - loss: 0.0202 - 326ms/epoch - 9ms/step\n",
            "Epoch 69/100\n",
            "35/35 - 0s - loss: 0.0245 - 319ms/epoch - 9ms/step\n",
            "Epoch 70/100\n",
            "35/35 - 0s - loss: 0.0235 - 348ms/epoch - 10ms/step\n",
            "Epoch 71/100\n",
            "35/35 - 0s - loss: 0.0260 - 332ms/epoch - 9ms/step\n",
            "Epoch 72/100\n",
            "35/35 - 0s - loss: 0.0199 - 326ms/epoch - 9ms/step\n",
            "Epoch 73/100\n",
            "35/35 - 0s - loss: 0.0141 - 322ms/epoch - 9ms/step\n",
            "Epoch 74/100\n",
            "35/35 - 0s - loss: 0.0183 - 335ms/epoch - 10ms/step\n",
            "Epoch 75/100\n",
            "35/35 - 0s - loss: 0.0170 - 321ms/epoch - 9ms/step\n",
            "Epoch 76/100\n",
            "35/35 - 0s - loss: 0.0196 - 318ms/epoch - 9ms/step\n",
            "Epoch 77/100\n",
            "35/35 - 0s - loss: 0.0215 - 320ms/epoch - 9ms/step\n",
            "Epoch 78/100\n",
            "35/35 - 0s - loss: 0.0150 - 322ms/epoch - 9ms/step\n",
            "Epoch 79/100\n",
            "35/35 - 0s - loss: 0.0164 - 316ms/epoch - 9ms/step\n",
            "Epoch 80/100\n",
            "35/35 - 0s - loss: 0.0164 - 330ms/epoch - 9ms/step\n",
            "Epoch 81/100\n",
            "35/35 - 0s - loss: 0.0161 - 318ms/epoch - 9ms/step\n",
            "Epoch 82/100\n",
            "35/35 - 0s - loss: 0.0172 - 332ms/epoch - 9ms/step\n",
            "Epoch 83/100\n",
            "35/35 - 0s - loss: 0.0194 - 334ms/epoch - 10ms/step\n",
            "Epoch 84/100\n",
            "35/35 - 0s - loss: 0.0209 - 328ms/epoch - 9ms/step\n",
            "Epoch 85/100\n",
            "35/35 - 0s - loss: 0.0189 - 319ms/epoch - 9ms/step\n",
            "Epoch 86/100\n",
            "35/35 - 0s - loss: 0.0221 - 328ms/epoch - 9ms/step\n",
            "Epoch 87/100\n",
            "35/35 - 0s - loss: 0.0175 - 309ms/epoch - 9ms/step\n",
            "Epoch 88/100\n",
            "35/35 - 0s - loss: 0.0182 - 333ms/epoch - 10ms/step\n",
            "Epoch 89/100\n",
            "35/35 - 0s - loss: 0.0173 - 324ms/epoch - 9ms/step\n",
            "Epoch 90/100\n",
            "35/35 - 0s - loss: 0.0188 - 315ms/epoch - 9ms/step\n",
            "Epoch 91/100\n",
            "35/35 - 0s - loss: 0.0167 - 325ms/epoch - 9ms/step\n",
            "Epoch 92/100\n",
            "35/35 - 0s - loss: 0.0191 - 341ms/epoch - 10ms/step\n",
            "Epoch 93/100\n",
            "35/35 - 0s - loss: 0.0168 - 335ms/epoch - 10ms/step\n",
            "Epoch 94/100\n",
            "35/35 - 0s - loss: 0.0195 - 329ms/epoch - 9ms/step\n",
            "Epoch 95/100\n",
            "35/35 - 0s - loss: 0.0149 - 311ms/epoch - 9ms/step\n",
            "Epoch 96/100\n",
            "35/35 - 0s - loss: 0.0160 - 355ms/epoch - 10ms/step\n",
            "Epoch 97/100\n",
            "35/35 - 0s - loss: 0.0162 - 349ms/epoch - 10ms/step\n",
            "Epoch 98/100\n",
            "35/35 - 0s - loss: 0.0183 - 326ms/epoch - 9ms/step\n",
            "Epoch 99/100\n",
            "35/35 - 0s - loss: 0.0187 - 359ms/epoch - 10ms/step\n",
            "Epoch 100/100\n",
            "35/35 - 0s - loss: 0.0186 - 320ms/epoch - 9ms/step\n"
          ]
        }
      ]
    },
    {
      "cell_type": "markdown",
      "metadata": {
        "id": "LvmYA01IaEdB"
      },
      "source": [
        "## Model Predictions"
      ]
    },
    {
      "cell_type": "code",
      "metadata": {
        "id": "CaHjsvNLaD5I"
      },
      "source": [
        "trainPred = model.predict(x_train)\n",
        "testPred = model.predict(x_test)"
      ],
      "execution_count": 18,
      "outputs": []
    },
    {
      "cell_type": "code",
      "metadata": {
        "id": "2rbm4HV3PYRs",
        "colab": {
          "base_uri": "https://localhost:8080/"
        },
        "outputId": "e5929ddf-dc09-45ea-da18-ac079483ad75"
      },
      "source": [
        "print(testPred.shape)\n",
        "print(trainPred.shape)"
      ],
      "execution_count": 19,
      "outputs": [
        {
          "output_type": "stream",
          "name": "stdout",
          "text": [
            "(60, 1)\n",
            "(419, 1)\n"
          ]
        }
      ]
    },
    {
      "cell_type": "code",
      "metadata": {
        "id": "eAQQknmh8PQA",
        "colab": {
          "base_uri": "https://localhost:8080/"
        },
        "outputId": "8e26386b-d60d-43b3-efb7-062a435922e7"
      },
      "source": [
        "#Reverting data back to 2D from 3D\n",
        "x_test_t = x_test.reshape((x_test.shape[0], x_test.shape[2]))\n",
        "print(x_test_t.shape)\n",
        "print(testPred.shape)"
      ],
      "execution_count": 20,
      "outputs": [
        {
          "output_type": "stream",
          "name": "stdout",
          "text": [
            "(60, 11)\n",
            "(60, 1)\n"
          ]
        }
      ]
    },
    {
      "cell_type": "code",
      "metadata": {
        "id": "nBgDrWcGPnZj",
        "colab": {
          "base_uri": "https://localhost:8080/"
        },
        "outputId": "ac519dfd-c520-4503-e8bb-595c59fcab7a"
      },
      "source": [
        "# invert scaling for forecasted values \n",
        "\n",
        "inv_testPred = scaler_l.inverse_transform(testPred)\n",
        "print(inv_testPred[1])\n",
        "\n",
        "# invert scaling for actual values\n",
        "\n",
        "inv_y_test = scaler_l.inverse_transform(y_test)\n",
        "print(inv_y_test[1])\n"
      ],
      "execution_count": 21,
      "outputs": [
        {
          "output_type": "stream",
          "name": "stdout",
          "text": [
            "[15113039.]\n",
            "[14545530.]\n"
          ]
        }
      ]
    },
    {
      "cell_type": "code",
      "metadata": {
        "colab": {
          "base_uri": "https://localhost:8080/"
        },
        "id": "oNZOX9p8Btxw",
        "outputId": "f53f153f-81c7-4757-a4dc-cd84d920442f"
      },
      "source": [
        "# calculate RMSE\n",
        "from sklearn.metrics import mean_squared_error\n",
        "from math import sqrt\n",
        "\n",
        "rmse = sqrt(mean_squared_error(inv_y_test, inv_testPred))\n",
        "print('Test RMSE: %.3f' % rmse)"
      ],
      "execution_count": 22,
      "outputs": [
        {
          "output_type": "stream",
          "name": "stdout",
          "text": [
            "Test RMSE: 539491.191\n"
          ]
        }
      ]
    },
    {
      "cell_type": "code",
      "metadata": {
        "colab": {
          "base_uri": "https://localhost:8080/"
        },
        "id": "23_bcO2qIpdn",
        "outputId": "3909142f-a3b4-42ca-92c0-901cc1ac877b"
      },
      "source": [
        "# calculate Normalized RMSE\n",
        "y_max = inv_y_test.max()\n",
        "y_min = inv_y_test.min()\n",
        "nrmse = rmse /(inv_y_test.mean()) \n",
        "print('Test NRMSE:', nrmse)"
      ],
      "execution_count": 23,
      "outputs": [
        {
          "output_type": "stream",
          "name": "stdout",
          "text": [
            "Test NRMSE: 0.050391169178680494\n"
          ]
        }
      ]
    },
    {
      "cell_type": "code",
      "source": [
        "inv_y_test.mean()"
      ],
      "metadata": {
        "colab": {
          "base_uri": "https://localhost:8080/"
        },
        "id": "xYCNqZfTNPqb",
        "outputId": "88636c05-ff52-4cb1-c3df-6c9133d3a8fa"
      },
      "execution_count": 24,
      "outputs": [
        {
          "output_type": "execute_result",
          "data": {
            "text/plain": [
              "10706066.15"
            ]
          },
          "metadata": {},
          "execution_count": 24
        }
      ]
    },
    {
      "cell_type": "code",
      "metadata": {
        "colab": {
          "base_uri": "https://localhost:8080/"
        },
        "id": "DK5wa1PUzvQv",
        "outputId": "296d6b6f-8516-486c-8667-340f01b837e7"
      },
      "source": [
        "# calculate R-square\n",
        "from sklearn.metrics import r2_score\n",
        "from math import sqrt\n",
        "\n",
        "r_sq = r2_score(inv_y_test, inv_testPred)\n",
        "print('Test R_Square: %.4f' % r_sq)"
      ],
      "execution_count": 25,
      "outputs": [
        {
          "output_type": "stream",
          "name": "stdout",
          "text": [
            "Test R_Square: 0.9730\n"
          ]
        }
      ]
    },
    {
      "cell_type": "markdown",
      "source": [
        "# Write scores in csv files"
      ],
      "metadata": {
        "id": "KxMR2bLiPL3p"
      }
    },
    {
      "cell_type": "code",
      "source": [
        "file_path = '/content/drive/MyDrive/SYDE 675/Project/Models/m-LSTM/scores.csv'\n",
        "\n",
        "header = ['seed', 'Test RMSE', 'Test normalized RMSE', 'R_Square']\n",
        "\n",
        "if os.path.exists(file_path):\n",
        "  # If file exists, append row\n",
        "  with open(file_path, 'a', encoding='UTF8') as f:\n",
        "    writer = csv.writer(f)\n",
        "\n",
        "    # write the data\n",
        "    writer.writerow([seed_number, rmse, nrmse, r_sq])\n",
        "\n",
        "else:\n",
        "  # If file does not exist, write new file\n",
        "  with open(file_path, 'w', encoding='UTF8') as f:\n",
        "    writer = csv.writer(f)\n",
        "\n",
        "    # write the header\n",
        "    writer.writerow(header)\n",
        "\n",
        "    # write the data\n",
        "    writer.writerow([seed_number, rmse, nrmse, r_sq])"
      ],
      "metadata": {
        "id": "ZJ3MO-IEPN5T"
      },
      "execution_count": 26,
      "outputs": []
    },
    {
      "cell_type": "code",
      "source": [
        "results = pd.read_csv(file_path)\n",
        "results.describe()"
      ],
      "metadata": {
        "colab": {
          "base_uri": "https://localhost:8080/",
          "height": 278
        },
        "id": "tkegsZMkaC2h",
        "outputId": "e862537c-ea08-41cb-99c5-8e42814c3fad"
      },
      "execution_count": 30,
      "outputs": [
        {
          "output_type": "execute_result",
          "data": {
            "text/html": [
              "\n",
              "  <div id=\"df-da31601a-e8f1-409a-9203-b255df17b35a\">\n",
              "    <div class=\"colab-df-container\">\n",
              "      <div>\n",
              "<style scoped>\n",
              "    .dataframe tbody tr th:only-of-type {\n",
              "        vertical-align: middle;\n",
              "    }\n",
              "\n",
              "    .dataframe tbody tr th {\n",
              "        vertical-align: top;\n",
              "    }\n",
              "\n",
              "    .dataframe thead th {\n",
              "        text-align: right;\n",
              "    }\n",
              "</style>\n",
              "<table border=\"1\" class=\"dataframe\">\n",
              "  <thead>\n",
              "    <tr style=\"text-align: right;\">\n",
              "      <th></th>\n",
              "      <th>seed</th>\n",
              "      <th>Test RMSE</th>\n",
              "      <th>Test normalized RMSE</th>\n",
              "      <th>R_Sqaure</th>\n",
              "    </tr>\n",
              "  </thead>\n",
              "  <tbody>\n",
              "    <tr>\n",
              "      <th>count</th>\n",
              "      <td>20.000000</td>\n",
              "      <td>20.000000</td>\n",
              "      <td>20.000000</td>\n",
              "      <td>20.000000</td>\n",
              "    </tr>\n",
              "    <tr>\n",
              "      <th>mean</th>\n",
              "      <td>1.500000</td>\n",
              "      <td>520110.276895</td>\n",
              "      <td>0.048581</td>\n",
              "      <td>0.974357</td>\n",
              "    </tr>\n",
              "    <tr>\n",
              "      <th>std</th>\n",
              "      <td>0.512989</td>\n",
              "      <td>76546.673118</td>\n",
              "      <td>0.007150</td>\n",
              "      <td>0.007559</td>\n",
              "    </tr>\n",
              "    <tr>\n",
              "      <th>min</th>\n",
              "      <td>1.000000</td>\n",
              "      <td>383787.426834</td>\n",
              "      <td>0.035848</td>\n",
              "      <td>0.956892</td>\n",
              "    </tr>\n",
              "    <tr>\n",
              "      <th>25%</th>\n",
              "      <td>1.000000</td>\n",
              "      <td>472168.570009</td>\n",
              "      <td>0.044103</td>\n",
              "      <td>0.969819</td>\n",
              "    </tr>\n",
              "    <tr>\n",
              "      <th>50%</th>\n",
              "      <td>1.500000</td>\n",
              "      <td>518171.581996</td>\n",
              "      <td>0.048400</td>\n",
              "      <td>0.975060</td>\n",
              "    </tr>\n",
              "    <tr>\n",
              "      <th>75%</th>\n",
              "      <td>2.000000</td>\n",
              "      <td>570003.186974</td>\n",
              "      <td>0.053241</td>\n",
              "      <td>0.979293</td>\n",
              "    </tr>\n",
              "    <tr>\n",
              "      <th>max</th>\n",
              "      <td>2.000000</td>\n",
              "      <td>681263.873887</td>\n",
              "      <td>0.063633</td>\n",
              "      <td>0.986319</td>\n",
              "    </tr>\n",
              "  </tbody>\n",
              "</table>\n",
              "</div>\n",
              "      <button class=\"colab-df-convert\" onclick=\"convertToInteractive('df-da31601a-e8f1-409a-9203-b255df17b35a')\"\n",
              "              title=\"Convert this dataframe to an interactive table.\"\n",
              "              style=\"display:none;\">\n",
              "        \n",
              "  <svg xmlns=\"http://www.w3.org/2000/svg\" height=\"24px\"viewBox=\"0 0 24 24\"\n",
              "       width=\"24px\">\n",
              "    <path d=\"M0 0h24v24H0V0z\" fill=\"none\"/>\n",
              "    <path d=\"M18.56 5.44l.94 2.06.94-2.06 2.06-.94-2.06-.94-.94-2.06-.94 2.06-2.06.94zm-11 1L8.5 8.5l.94-2.06 2.06-.94-2.06-.94L8.5 2.5l-.94 2.06-2.06.94zm10 10l.94 2.06.94-2.06 2.06-.94-2.06-.94-.94-2.06-.94 2.06-2.06.94z\"/><path d=\"M17.41 7.96l-1.37-1.37c-.4-.4-.92-.59-1.43-.59-.52 0-1.04.2-1.43.59L10.3 9.45l-7.72 7.72c-.78.78-.78 2.05 0 2.83L4 21.41c.39.39.9.59 1.41.59.51 0 1.02-.2 1.41-.59l7.78-7.78 2.81-2.81c.8-.78.8-2.07 0-2.86zM5.41 20L4 18.59l7.72-7.72 1.47 1.35L5.41 20z\"/>\n",
              "  </svg>\n",
              "      </button>\n",
              "      \n",
              "  <style>\n",
              "    .colab-df-container {\n",
              "      display:flex;\n",
              "      flex-wrap:wrap;\n",
              "      gap: 12px;\n",
              "    }\n",
              "\n",
              "    .colab-df-convert {\n",
              "      background-color: #E8F0FE;\n",
              "      border: none;\n",
              "      border-radius: 50%;\n",
              "      cursor: pointer;\n",
              "      display: none;\n",
              "      fill: #1967D2;\n",
              "      height: 32px;\n",
              "      padding: 0 0 0 0;\n",
              "      width: 32px;\n",
              "    }\n",
              "\n",
              "    .colab-df-convert:hover {\n",
              "      background-color: #E2EBFA;\n",
              "      box-shadow: 0px 1px 2px rgba(60, 64, 67, 0.3), 0px 1px 3px 1px rgba(60, 64, 67, 0.15);\n",
              "      fill: #174EA6;\n",
              "    }\n",
              "\n",
              "    [theme=dark] .colab-df-convert {\n",
              "      background-color: #3B4455;\n",
              "      fill: #D2E3FC;\n",
              "    }\n",
              "\n",
              "    [theme=dark] .colab-df-convert:hover {\n",
              "      background-color: #434B5C;\n",
              "      box-shadow: 0px 1px 3px 1px rgba(0, 0, 0, 0.15);\n",
              "      filter: drop-shadow(0px 1px 2px rgba(0, 0, 0, 0.3));\n",
              "      fill: #FFFFFF;\n",
              "    }\n",
              "  </style>\n",
              "\n",
              "      <script>\n",
              "        const buttonEl =\n",
              "          document.querySelector('#df-da31601a-e8f1-409a-9203-b255df17b35a button.colab-df-convert');\n",
              "        buttonEl.style.display =\n",
              "          google.colab.kernel.accessAllowed ? 'block' : 'none';\n",
              "\n",
              "        async function convertToInteractive(key) {\n",
              "          const element = document.querySelector('#df-da31601a-e8f1-409a-9203-b255df17b35a');\n",
              "          const dataTable =\n",
              "            await google.colab.kernel.invokeFunction('convertToInteractive',\n",
              "                                                     [key], {});\n",
              "          if (!dataTable) return;\n",
              "\n",
              "          const docLinkHtml = 'Like what you see? Visit the ' +\n",
              "            '<a target=\"_blank\" href=https://colab.research.google.com/notebooks/data_table.ipynb>data table notebook</a>'\n",
              "            + ' to learn more about interactive tables.';\n",
              "          element.innerHTML = '';\n",
              "          dataTable['output_type'] = 'display_data';\n",
              "          await google.colab.output.renderOutput(dataTable, element);\n",
              "          const docLink = document.createElement('div');\n",
              "          docLink.innerHTML = docLinkHtml;\n",
              "          element.appendChild(docLink);\n",
              "        }\n",
              "      </script>\n",
              "    </div>\n",
              "  </div>\n",
              "  "
            ],
            "text/plain": [
              "            seed      Test RMSE  Test normalized RMSE   R_Sqaure\n",
              "count  20.000000      20.000000             20.000000  20.000000\n",
              "mean    1.500000  520110.276895              0.048581   0.974357\n",
              "std     0.512989   76546.673118              0.007150   0.007559\n",
              "min     1.000000  383787.426834              0.035848   0.956892\n",
              "25%     1.000000  472168.570009              0.044103   0.969819\n",
              "50%     1.500000  518171.581996              0.048400   0.975060\n",
              "75%     2.000000  570003.186974              0.053241   0.979293\n",
              "max     2.000000  681263.873887              0.063633   0.986319"
            ]
          },
          "metadata": {},
          "execution_count": 30
        }
      ]
    },
    {
      "cell_type": "markdown",
      "metadata": {
        "id": "-6q16qTmaZ8N"
      },
      "source": [
        "## Plotting"
      ]
    },
    {
      "cell_type": "code",
      "metadata": {
        "id": "5P2TOQqU7Wry",
        "colab": {
          "base_uri": "https://localhost:8080/",
          "height": 480
        },
        "outputId": "3de1c10f-9b72-4051-ff29-b565c1d552ad"
      },
      "source": [
        "from matplotlib import pyplot\n",
        "\n",
        "pyplot.plot(history.history['loss'], label='train')\n",
        "pyplot.plot(history.history['val_loss'], label='test')\n",
        "pyplot.legend()\n",
        "pyplot.show()\n"
      ],
      "execution_count": 27,
      "outputs": [
        {
          "output_type": "error",
          "ename": "KeyError",
          "evalue": "ignored",
          "traceback": [
            "\u001b[0;31m---------------------------------------------------------------------------\u001b[0m",
            "\u001b[0;31mKeyError\u001b[0m                                  Traceback (most recent call last)",
            "\u001b[0;32m<ipython-input-27-499f21904caf>\u001b[0m in \u001b[0;36m<module>\u001b[0;34m()\u001b[0m\n\u001b[1;32m      2\u001b[0m \u001b[0;34m\u001b[0m\u001b[0m\n\u001b[1;32m      3\u001b[0m \u001b[0mpyplot\u001b[0m\u001b[0;34m.\u001b[0m\u001b[0mplot\u001b[0m\u001b[0;34m(\u001b[0m\u001b[0mhistory\u001b[0m\u001b[0;34m.\u001b[0m\u001b[0mhistory\u001b[0m\u001b[0;34m[\u001b[0m\u001b[0;34m'loss'\u001b[0m\u001b[0;34m]\u001b[0m\u001b[0;34m,\u001b[0m \u001b[0mlabel\u001b[0m\u001b[0;34m=\u001b[0m\u001b[0;34m'train'\u001b[0m\u001b[0;34m)\u001b[0m\u001b[0;34m\u001b[0m\u001b[0;34m\u001b[0m\u001b[0m\n\u001b[0;32m----> 4\u001b[0;31m \u001b[0mpyplot\u001b[0m\u001b[0;34m.\u001b[0m\u001b[0mplot\u001b[0m\u001b[0;34m(\u001b[0m\u001b[0mhistory\u001b[0m\u001b[0;34m.\u001b[0m\u001b[0mhistory\u001b[0m\u001b[0;34m[\u001b[0m\u001b[0;34m'val_loss'\u001b[0m\u001b[0;34m]\u001b[0m\u001b[0;34m,\u001b[0m \u001b[0mlabel\u001b[0m\u001b[0;34m=\u001b[0m\u001b[0;34m'test'\u001b[0m\u001b[0;34m)\u001b[0m\u001b[0;34m\u001b[0m\u001b[0;34m\u001b[0m\u001b[0m\n\u001b[0m\u001b[1;32m      5\u001b[0m \u001b[0mpyplot\u001b[0m\u001b[0;34m.\u001b[0m\u001b[0mlegend\u001b[0m\u001b[0;34m(\u001b[0m\u001b[0;34m)\u001b[0m\u001b[0;34m\u001b[0m\u001b[0;34m\u001b[0m\u001b[0m\n\u001b[1;32m      6\u001b[0m \u001b[0mpyplot\u001b[0m\u001b[0;34m.\u001b[0m\u001b[0mshow\u001b[0m\u001b[0;34m(\u001b[0m\u001b[0;34m)\u001b[0m\u001b[0;34m\u001b[0m\u001b[0;34m\u001b[0m\u001b[0m\n",
            "\u001b[0;31mKeyError\u001b[0m: 'val_loss'"
          ]
        },
        {
          "output_type": "display_data",
          "data": {
            "image/png": "[encoded data removed]",
            "text/plain": [
              "<Figure size 432x288 with 1 Axes>"
            ]
          },
          "metadata": {
            "needs_background": "light"
          }
        }
      ]
    },
    {
      "cell_type": "code",
      "metadata": {
        "id": "mdq_2QDSal-d"
      },
      "source": [
        "fig, ax = plt.subplots()\n",
        "ax.scatter(y_train,trainPred)\n",
        "ax.plot([y_train.min(), y_train.max()], [y_train.min(), y_train.max()], 'k--', lw=4)\n",
        "ax.set_xlabel('observed')\n",
        "ax.set_ylabel('predicted')\n",
        "plt.show()\n"
      ],
      "execution_count": null,
      "outputs": []
    },
    {
      "cell_type": "code",
      "metadata": {
        "id": "gixcJfYHgvyP"
      },
      "source": [
        "fig, ax = plt.subplots()\n",
        "ax.scatter(inv_y_valid,inv_testPred) #[:,:,6]\n",
        "ax.plot([inv_y_valid.min(), inv_y_valid.max()], [inv_y_valid.min(), inv_y_valid.max()], 'k--', lw=4)\n",
        "ax.set_xlabel('observed')\n",
        "ax.set_ylabel('predicted')\n",
        "#plt.savefig('test_prediction.png',bbox_inches='tight',dpi=1200)\n",
        "plt.show()"
      ],
      "execution_count": null,
      "outputs": []
    },
    {
      "cell_type": "code",
      "metadata": {
        "id": "zJ9u67hnUCfU"
      },
      "source": [
        "trainPred = np.transpose(trainPred.flatten())\n",
        "\n",
        "print(trainPred.shape)\n",
        "print(y_train.shape)"
      ],
      "execution_count": null,
      "outputs": []
    },
    {
      "cell_type": "code",
      "metadata": {
        "id": "gQNoyQLlhIBV"
      },
      "source": [
        "from matplotlib import pyplot\n",
        "\n",
        "pyplot.plot(trainPred)\n",
        "pyplot.plot(y_train)\n",
        "pyplot.show()"
      ],
      "execution_count": null,
      "outputs": []
    },
    {
      "cell_type": "code",
      "source": [
        "from matplotlib import pyplot\n",
        "fig, ax= plt.subplots(figsize=(24, 8))\n",
        "pyplot.plot(inv_testPred)\n",
        "pyplot.plot(inv_y_valid)\n",
        "pyplot.show()"
      ],
      "metadata": {
        "id": "eXdrBKBD2fNe"
      },
      "execution_count": null,
      "outputs": []
    }
  ]
}